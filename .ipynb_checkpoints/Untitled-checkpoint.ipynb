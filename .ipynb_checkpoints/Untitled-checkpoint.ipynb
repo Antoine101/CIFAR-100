{
 "cells": [
  {
   "cell_type": "markdown",
   "id": "1f157198",
   "metadata": {},
   "source": [
    "# <center>CIFAR-100</center>"
   ]
  },
  {
   "cell_type": "markdown",
   "id": "d72bc54e",
   "metadata": {},
   "source": [
    "## Librairies Import"
   ]
  },
  {
   "cell_type": "markdown",
   "id": "d09108bb",
   "metadata": {},
   "source": [
    "## Dataset Loading"
   ]
  },
  {
   "cell_type": "markdown",
   "id": "5cce41f9",
   "metadata": {},
   "source": [
    "## Creation of the Dataset Class"
   ]
  },
  {
   "cell_type": "markdown",
   "id": "b9f9e5c1",
   "metadata": {},
   "source": [
    "## Instantiation of the Dataset"
   ]
  },
  {
   "cell_type": "markdown",
   "id": "7706fe18",
   "metadata": {},
   "source": [
    "## Visualisation of Dataset Samples"
   ]
  },
  {
   "cell_type": "markdown",
   "id": "f12d2cad",
   "metadata": {},
   "source": [
    "## Creation of the Lightning Pipeline"
   ]
  },
  {
   "cell_type": "markdown",
   "id": "57b61c8c",
   "metadata": {},
   "source": [
    "## Model Training and Evaluation"
   ]
  },
  {
   "cell_type": "code",
   "execution_count": null,
   "id": "022f9d7e",
   "metadata": {},
   "outputs": [],
   "source": []
  }
 ],
 "metadata": {
  "kernelspec": {
   "display_name": "Python 3 (ipykernel)",
   "language": "python",
   "name": "python3"
  },
  "language_info": {
   "codemirror_mode": {
    "name": "ipython",
    "version": 3
   },
   "file_extension": ".py",
   "mimetype": "text/x-python",
   "name": "python",
   "nbconvert_exporter": "python",
   "pygments_lexer": "ipython3",
   "version": "3.8.12"
  }
 },
 "nbformat": 4,
 "nbformat_minor": 5
}
